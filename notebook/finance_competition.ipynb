{
 "cells": [
  {
   "cell_type": "code",
   "execution_count": null,
   "metadata": {},
   "outputs": [],
   "source": [
    "import os\n",
    "import joblib\n",
    "import datetime as dt\n",
    "import pickle\n",
    "from tqdm import tqdm\n",
    "# import conf\n",
    "import folium\n",
    "import lightgbm as lgb\n",
    "from sklearn.metrics import mean_squared_error\n",
    "from sklearn.model_selection import KFold, GroupKFold, StratifiedKFold\n",
    "import japanize_matplotlib\n",
    "import datetime\n",
    "from scipy.spatial.distance import squareform\n",
    "from scipy.spatial.distance import pdist\n",
    "import gc\n",
    "import seaborn as sns\n",
    "import matplotlib.pyplot as plt\n",
    "import numpy as np\n",
    "import pandas as pd\n",
    "import re\n",
    "%load_ext autoreload\n",
    "%autoreload 2\n",
    "\n",
    "\n",
    "pd.set_option('display.max_rows', 300)\n",
    "pd.set_option('display.max_columns', 600)\n"
   ]
  },
  {
   "cell_type": "code",
   "execution_count": null,
   "metadata": {},
   "outputs": [],
   "source": [
    "df_train = pd.read_csv('../data/train.csv', index_col=0).assign(type='train')\n",
    "df_test = pd.read_csv('../data/test.csv', index_col=0).assign(type='test')\n"
   ]
  },
  {
   "cell_type": "code",
   "execution_count": null,
   "metadata": {},
   "outputs": [],
   "source": [
    "print(df_train.shape)\n",
    "print(df_test.shape)"
   ]
  },
  {
   "cell_type": "markdown",
   "metadata": {},
   "source": [
    "# EDA"
   ]
  },
  {
   "cell_type": "code",
   "execution_count": null,
   "metadata": {},
   "outputs": [],
   "source": [
    "df_train.head()"
   ]
  },
  {
   "cell_type": "code",
   "execution_count": null,
   "metadata": {},
   "outputs": [],
   "source": [
    "df_test.head()"
   ]
  },
  {
   "cell_type": "code",
   "execution_count": null,
   "metadata": {},
   "outputs": [],
   "source": [
    "def split_ymd(df, col):\n",
    "    df[f'{col}_dt'] = pd.to_datetime(df[col], format='%d-%b-%y')\n",
    "    df[f'{col}_year'] = df[f'{col}_dt'].dt.year\n",
    "    df[f'{col}_month'] = df[f'{col}_dt'].dt.month\n",
    "    df[f'{col}_day'] = df[f'{col}_dt'].dt.day\n",
    "    \n",
    "    return df\n",
    "\n",
    "\n",
    "def preprocess(df):\n",
    "    df[['RevLineCr', 'LowDoc']] = df[['RevLineCr', 'LowDoc']].replace({'Y':1, 'N':0})\n",
    "    df = split_ymd(df, 'DisbursementDate')\n",
    "    df = split_ymd(df, 'ApprovalDate')\n",
    "\n",
    "    for col in ['DisbursementGross', 'GrAppv', 'SBA_Appv']:\n",
    "        df[col] = df[col].str.replace('[\\$,]', '', regex=True).astype(float).astype(int)\n",
    "    \n",
    "    return df"
   ]
  },
  {
   "cell_type": "code",
   "execution_count": null,
   "metadata": {},
   "outputs": [],
   "source": [
    "df_train['LowDoc'].unique()"
   ]
  },
  {
   "cell_type": "code",
   "execution_count": null,
   "metadata": {},
   "outputs": [],
   "source": [
    "df_train = preprocess(df_train)\n",
    "df_test = preprocess(df_test)\n"
   ]
  },
  {
   "cell_type": "code",
   "execution_count": null,
   "metadata": {},
   "outputs": [],
   "source": [
    "df_train['MIS_Status'].hist()\n",
    "df_train['MIS_Status'].mean()"
   ]
  },
  {
   "cell_type": "code",
   "execution_count": null,
   "metadata": {},
   "outputs": [],
   "source": [
    "# 特徴量の分布に差異はない\n",
    "import seaborn as sns\n",
    "tmp = pd.concat([df_train, df_test])\n",
    "\n",
    "for col in df_train.columns:\n",
    "    sns.histplot(x=col, data=tmp, hue='type', bins=10, alpha=0.5)\n",
    "    plt.show()"
   ]
  },
  {
   "cell_type": "code",
   "execution_count": null,
   "metadata": {},
   "outputs": [],
   "source": [
    "df_train.isna().sum()"
   ]
  },
  {
   "cell_type": "markdown",
   "metadata": {},
   "source": [
    "# 学習"
   ]
  },
  {
   "cell_type": "code",
   "execution_count": null,
   "metadata": {},
   "outputs": [],
   "source": [
    "df_train"
   ]
  },
  {
   "cell_type": "code",
   "execution_count": null,
   "metadata": {},
   "outputs": [],
   "source": [
    "df_train.columns"
   ]
  },
  {
   "cell_type": "code",
   "execution_count": null,
   "metadata": {},
   "outputs": [],
   "source": [
    "df_train.columns\n",
    "\n",
    "features = ['Term', 'NoEmp', 'NewExist', 'CreateJob', 'RetainedJob',\n",
    "            'FranchiseCode', \n",
    "            # 'RevLineCr', 'LowDoc',\n",
    "            'Sector', \n",
    "            # 'ApprovalFY', \n",
    "            # 'City', 'State', 'BankState', \n",
    "            'DisbursementGross', 'GrAppv', 'SBA_Appv', 'UrbanRural', \n",
    "            'DisbursementDate_year', 'DisbursementDate_month', 'DisbursementDate_day',\n",
    "            'ApprovalDate_year', 'ApprovalDate_month', 'ApprovalDate_day']\n",
    "\n",
    "target = 'MIS_Status'"
   ]
  },
  {
   "cell_type": "code",
   "execution_count": null,
   "metadata": {},
   "outputs": [],
   "source": [
    "df_train[features]"
   ]
  },
  {
   "cell_type": "code",
   "execution_count": null,
   "metadata": {},
   "outputs": [],
   "source": [
    "df_train[features].info()"
   ]
  },
  {
   "cell_type": "code",
   "execution_count": null,
   "metadata": {},
   "outputs": [],
   "source": [
    "from sklearn.metrics import f1_score\n",
    "\n",
    "def custom_f1_score(preds, train_data):\n",
    "    y_true = train_data.get_label()\n",
    "    y_pred = (preds > 0.5).astype(int)  # 2値分類の場合、閾値を設定して予測ラベルを取得\n",
    "    score = f1_score(y_true, y_pred)\n",
    "    return 'f1', score, True"
   ]
  },
  {
   "cell_type": "code",
   "execution_count": null,
   "metadata": {},
   "outputs": [],
   "source": [
    "from sklearn.model_selection import StratifiedKFold\n",
    "\n",
    "skf = StratifiedKFold(n_splits=5, shuffle=True, random_state=0)\n",
    "x_train = df_train[features]\n",
    "y_train = df_train[target]"
   ]
  },
  {
   "cell_type": "code",
   "execution_count": null,
   "metadata": {},
   "outputs": [],
   "source": [
    "\n",
    "params= {\n",
    "    'objective': 'binary',\n",
    "    'metric':'binary_logloss',\n",
    "    'learning_rate': 0.05, \n",
    "    # 'max_depth':10,\n",
    "    'num_leaves': 200,\n",
    "    'feature_fraction': 0.8,  # default = 1.0\n",
    "    'bagging_freq': 1,        # default = 0\n",
    "    'bagging_fraction': 0.8,  # default = 1.0\n",
    "    'n_estimators': 10000,\n",
    "    # 'importance_type': 'gain',\n",
    "}\n",
    "\n",
    "models = []\n",
    "pred_oof = np.zeros(len(x_train))\n",
    "\n",
    "for i, (train_index, valid_index) in enumerate(skf.split(x_train, y_train)):\n",
    "    print(f\"Fold {i}:start training\")\n",
    "    model = lgb.LGBMClassifier(**params)\n",
    "    model.fit(x_train.loc[train_index], \n",
    "              y_train[train_index], \n",
    "              eval_set=[(x_train.loc[valid_index], y_train[valid_index])],  \n",
    "              callbacks=[lgb.early_stopping(stopping_rounds=200,\n",
    "                                            verbose=True), # early_stopping用コールバック関数\n",
    "                         lgb.log_evaluation(100)], # コマンドライン出力用コールバック関数          \n",
    "             )\n",
    "    models.append(model)\n",
    "    pred_oof[valid_index] = model.predict_proba(x_train.loc[valid_index])[:, 1]\n",
    "    # pred_oof[valid_index] = model.predict_proba(x_train.loc[valid_index])[:, 1]"
   ]
  },
  {
   "cell_type": "code",
   "execution_count": null,
   "metadata": {},
   "outputs": [],
   "source": [
    "df_train['pred'] = pred_oof\n",
    "df_train['pred'].hist()"
   ]
  },
  {
   "cell_type": "code",
   "execution_count": null,
   "metadata": {},
   "outputs": [],
   "source": [
    "from sklearn.metrics import f1_score\n",
    "\n",
    "thrs = np.arange(0, 1, 0.001)\n",
    "scores = []\n",
    "\n",
    "for thr in np.arange(0, 1, 0.001):\n",
    "    y_true = df_train[target]\n",
    "    y_pred = (df_train['pred'] > thr).astype(int)  # 2値分類の場合、閾値を設定して予測ラベルを取得\n",
    "    scores.append(f1_score(y_true, y_pred, average='macro'))\n",
    "    "
   ]
  },
  {
   "cell_type": "code",
   "execution_count": null,
   "metadata": {},
   "outputs": [],
   "source": [
    "plt.plot(thrs, scores)"
   ]
  },
  {
   "cell_type": "code",
   "execution_count": null,
   "metadata": {},
   "outputs": [],
   "source": [
    "idx = np.argmax(scores)\n",
    "thr = thrs[idx]\n",
    "print(thr, scores[idx])"
   ]
  },
  {
   "cell_type": "markdown",
   "metadata": {},
   "source": [
    "# 結果の解釈"
   ]
  },
  {
   "cell_type": "code",
   "execution_count": null,
   "metadata": {},
   "outputs": [],
   "source": [
    "importance = pd.DataFrame(model.feature_importances_, index=x_train.columns, columns=['importance']).sort_values('importance', ascending=False).head(20)\n",
    "importance.plot.barh()"
   ]
  },
  {
   "cell_type": "code",
   "execution_count": null,
   "metadata": {},
   "outputs": [],
   "source": [
    "df_train[['pred_0', 'pred_1', 'pred_2']] = pred_oof\n",
    "df_train"
   ]
  },
  {
   "cell_type": "code",
   "execution_count": null,
   "metadata": {},
   "outputs": [],
   "source": [
    "df_train[['pred_0', 'pred_1', 'pred_2']].hist()"
   ]
  },
  {
   "cell_type": "code",
   "execution_count": null,
   "metadata": {},
   "outputs": [],
   "source": [
    "df_train['health'].value_counts()"
   ]
  },
  {
   "cell_type": "markdown",
   "metadata": {},
   "source": [
    "# 予測値付与"
   ]
  },
  {
   "cell_type": "code",
   "execution_count": null,
   "metadata": {},
   "outputs": [],
   "source": [
    "pred_test = np.zeros(len(df_test))\n",
    "for model in models:\n",
    "    pred_test += model.predict_proba(df_test[features])[:,1]/5\n",
    "df_test['pred'] = pred_test\n",
    "df_test['pred_class'] = (df_test['pred'] > thr).astype(int)"
   ]
  },
  {
   "cell_type": "code",
   "execution_count": null,
   "metadata": {},
   "outputs": [],
   "source": [
    "df_test['pred'].hist()\n"
   ]
  },
  {
   "cell_type": "code",
   "execution_count": null,
   "metadata": {},
   "outputs": [],
   "source": [
    "df_test['pred_class'].hist()"
   ]
  },
  {
   "cell_type": "code",
   "execution_count": null,
   "metadata": {},
   "outputs": [],
   "source": [
    "sample_submit = pd.read_csv('../data/sample_submission.csv', index_col=0, header=None) # 応募用サンプルファイル\n",
    "sample_submit[1] = df_test['pred_class']\n",
    "sample_submit.to_csv('../data/submit.csv', header=None)"
   ]
  },
  {
   "cell_type": "markdown",
   "metadata": {},
   "source": [
    "# submit"
   ]
  },
  {
   "cell_type": "code",
   "execution_count": null,
   "metadata": {},
   "outputs": [],
   "source": [
    "!signate submit --competition-id=1337 ../data/submit.csv --note macro-f1"
   ]
  },
  {
   "cell_type": "code",
   "execution_count": null,
   "metadata": {},
   "outputs": [],
   "source": []
  }
 ],
 "metadata": {
  "kernelspec": {
   "display_name": ".venv",
   "language": "python",
   "name": "python3"
  },
  "language_info": {
   "codemirror_mode": {
    "name": "ipython",
    "version": 3
   },
   "file_extension": ".py",
   "mimetype": "text/x-python",
   "name": "python",
   "nbconvert_exporter": "python",
   "pygments_lexer": "ipython3",
   "version": "3.8.10"
  }
 },
 "nbformat": 4,
 "nbformat_minor": 2
}
